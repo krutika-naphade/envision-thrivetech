{
 "cells": [
  {
   "cell_type": "code",
   "execution_count": 28,
   "id": "9da424b1-f264-422e-a56e-e1654603c52e",
   "metadata": {},
   "outputs": [],
   "source": [
    "model1 = svm.SVR()\n",
    "model1.fit(x_train, y_train)\n",
    "y_pred = model1.predict(x_test)"
   ]
  },
  {
   "cell_type": "code",
   "execution_count": 29,
   "id": "1890b4e9-b470-43e5-a5e6-e354b200719e",
   "metadata": {},
   "outputs": [
    {
     "name": "stdout",
     "output_type": "stream",
     "text": [
      "Mean Absolute Error: 10.320485537023602\n",
      "Mean Squared Error: 371.7907414958839\n",
      "R2 score: -0.17886853639175593\n"
     ]
    }
   ],
   "source": [
    "print('Mean Absolute Error:', metrics.mean_absolute_error(y_test, y_pred))\n",
    "print('Mean Squared Error:', metrics.mean_squared_error(y_test, y_pred))\n",
    "print('R2 score:', metrics.r2_score(y_test, y_pred))"
   ]
  },
  {
   "cell_type": "code",
   "execution_count": 30,
   "id": "4a8c1d1c-8714-4ee4-a40b-e427c7428489",
   "metadata": {},
   "outputs": [],
   "source": [
    "model2 = KNeighborsRegressor(n_neighbors=2)\n",
    "model2.fit(x_train, y_train)\n",
    "y_pred = model2.predict(x_test)"
   ]
  },
  {
   "cell_type": "code",
   "execution_count": 31,
   "id": "43101771-3d97-455a-ba62-fbb4083c5447",
   "metadata": {},
   "outputs": [
    {
     "name": "stdout",
     "output_type": "stream",
     "text": [
      "Mean Absolute Error: 6.581814572640175\n",
      "Mean Squared Error: 140.8179395491395\n",
      "R2 score: 0.5534965781394137\n"
     ]
    }
   ],
   "source": [
    "print('Mean Absolute Error:', metrics.mean_absolute_error(y_test, y_pred))\n",
    "print('Mean Squared Error:', metrics.mean_squared_error(y_test, y_pred))\n",
    "print('R2 score:', metrics.r2_score(y_test, y_pred))"
   ]
  },
  {
   "cell_type": "code",
   "execution_count": 32,
   "id": "48f84fdd-12d6-4b58-9f91-f29b643cb287",
   "metadata": {},
   "outputs": [],
   "source": [
    "model3 = tree.DecisionTreeRegressor()\n",
    "model3.fit(x_train, y_train)\n",
    "y_pred = model3.predict(x_test)"
   ]
  },
  {
   "cell_type": "code",
   "execution_count": 33,
   "id": "541220e5-4718-465e-8b42-7e66bdfbfd92",
   "metadata": {},
   "outputs": [
    {
     "name": "stdout",
     "output_type": "stream",
     "text": [
      "Mean Absolute Error: 2.888402205215321\n",
      "Mean Squared Error: 34.87377224193079\n",
      "R2 score: 0.8894227632568426\n"
     ]
    }
   ],
   "source": [
    "print('Mean Absolute Error:', metrics.mean_absolute_error(y_test, y_pred))\n",
    "print('Mean Squared Error:', metrics.mean_squared_error(y_test, y_pred))\n",
    "print('R2 score:', metrics.r2_score(y_test, y_pred))"
   ]
  },
  {
   "cell_type": "code",
   "execution_count": 34,
   "id": "95177430-68c6-482d-b658-10f4d0f85e5e",
   "metadata": {},
   "outputs": [],
   "source": [
    "model4 = RandomForestRegressor(random_state=0)\n",
    "model4.fit(x_train, y_train)\n",
    "y_pred = model4.predict(x_test)"
   ]
  },
  {
   "cell_type": "code",
   "execution_count": 35,
   "id": "81be7d43-61e3-496a-b2d7-0d14050a2d3b",
   "metadata": {},
   "outputs": [
    {
     "name": "stdout",
     "output_type": "stream",
     "text": [
      "Mean Absolute Error: 2.487973049950136\n",
      "Mean Squared Error: 21.362971441526998\n",
      "R2 score: 0.9322626088672231\n"
     ]
    }
   ],
   "source": [
    "print('Mean Absolute Error:', metrics.mean_absolute_error(y_test, y_pred))\n",
    "print('Mean Squared Error:', metrics.mean_squared_error(y_test, y_pred))\n",
    "print('R2 score:', metrics.r2_score(y_test, y_pred))"
   ]
  },
  {
   "cell_type": "code",
   "execution_count": 36,
   "id": "258fa09a-40b0-4f15-8307-147b76b7090b",
   "metadata": {},
   "outputs": [],
   "source": [
    "model5 = MLPRegressor(random_state=0)\n",
    "model5.fit(x_train, y_train)\n",
    "y_pred = model5.predict(x_test)"
   ]
  },
  {
   "cell_type": "code",
   "execution_count": 37,
   "id": "fd7b691a-6b5d-48d0-8875-6192bee0ae83",
   "metadata": {},
   "outputs": [
    {
     "name": "stdout",
     "output_type": "stream",
     "text": [
      "Mean Absolute Error: 12.424838196292532\n",
      "Mean Squared Error: 307.55062475298035\n",
      "R2 score: 0.024823067378803798\n"
     ]
    }
   ],
   "source": [
    "print('Mean Absolute Error:', metrics.mean_absolute_error(y_test, y_pred))\n",
    "print('Mean Squared Error:', metrics.mean_squared_error(y_test, y_pred))\n",
    "print('R2 score:', metrics.r2_score(y_test, y_pred))"
   ]
  },
  {
   "cell_type": "code",
   "execution_count": 38,
   "id": "c5c6141e-3b1b-4415-96d8-e883a0b6d47d",
   "metadata": {},
   "outputs": [],
   "source": [
    "import pickle"
   ]
  },
  {
   "cell_type": "code",
   "execution_count": 39,
   "id": "03e647e8-97a8-407d-8f0d-0f2acc7d7891",
   "metadata": {},
   "outputs": [],
   "source": [
    "\n",
    "pkl_filename = \"Model/model.pkl\"\n",
    "with open(pkl_filename, 'wb') as file:\n",
    "    pickle.dump(model4, file)"
   ]
  },
  {
   "cell_type": "code",
   "execution_count": 40,
   "id": "13bdb7e8-25a1-448d-ace8-b4a5cddfe3bc",
   "metadata": {},
   "outputs": [
    {
     "name": "stdout",
     "output_type": "stream",
     "text": [
      "0.9322626088672231\n"
     ]
    }
   ],
   "source": [
    "with open(pkl_filename, 'rb') as file:\n",
    "    pickle_model = pickle.load(file)\n",
    "score = pickle_model.score(x_test, y_test)\n",
    "print(score)"
   ]
  }
 ],
 "metadata": {
  "kernelspec": {
   "display_name": "Python 3 (ipykernel)",
   "language": "python",
   "name": "python3"
  },
  "language_info": {
   "codemirror_mode": {
    "name": "ipython",
    "version": 3
   },
   "file_extension": ".py",
   "mimetype": "text/x-python",
   "name": "python",
   "nbconvert_exporter": "python",
   "pygments_lexer": "ipython3",
   "version": "3.9.15"
  },
  "vscode": {
   "interpreter": {
    "hash": "31f2aee4e71d21fbe5cf8b01ff0e069b9275f58929596ceb00d14d90e3e16cd6"
   }
  }
 },
 "nbformat": 4,
 "nbformat_minor": 5
}
